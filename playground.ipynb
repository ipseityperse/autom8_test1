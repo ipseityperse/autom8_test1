{
    "cells": [
        {
            "cell_type": "code",
            "execution_count": 120,
            "source": [
                "import requests, json\r\n",
                "base = 'https://console.rapid7.aws.assaabloy.net/api/3/'\r\n",
                "auth = ('DK_API_Access', 'zh6GCN6VHxJ-)E]D')\r\n",
                "res = []"
            ],
            "outputs": [],
            "metadata": {}
        },
        {
            "cell_type": "code",
            "execution_count": 134,
            "source": [
                "for i in range(20):\r\n",
                "    r = requests.get(f'{base}reports/', auth=auth, allow_redirects=True)\r\n",
                "    if r.status_code == 200: res.append(r.text)"
            ],
            "outputs": [],
            "metadata": {}
        },
        {
            "cell_type": "code",
            "execution_count": 135,
            "source": [
                "list(res)"
            ],
            "outputs": [
                {
                    "output_type": "execute_result",
                    "data": {
                        "text/plain": [
                            "['{\\n  \"resources\" : [ ],\\n  \"links\" : [ {\\n    \"href\" : \"https://console.rapid7.aws.assaabloy.net/api/3/reports/1/history\",\\n    \"rel\" : \"self\"\\n  } ]\\n}',\n",
                            " '{\\n  \"resources\" : [ ],\\n  \"links\" : [ {\\n    \"href\" : \"https://console.rapid7.aws.assaabloy.net/api/3/reports/2/history\",\\n    \"rel\" : \"self\"\\n  } ]\\n}',\n",
                            " '{\\n  \"resources\" : [ ],\\n  \"links\" : [ {\\n    \"href\" : \"https://console.rapid7.aws.assaabloy.net/api/3/reports/3/history\",\\n    \"rel\" : \"self\"\\n  } ]\\n}',\n",
                            " '{\\n  \"resources\" : [ ],\\n  \"links\" : [ {\\n    \"href\" : \"https://console.rapid7.aws.assaabloy.net/api/3/reports/4/history\",\\n    \"rel\" : \"self\"\\n  } ]\\n}',\n",
                            " '{\\n  \"resources\" : [ ],\\n  \"links\" : [ {\\n    \"href\" : \"https://console.rapid7.aws.assaabloy.net/api/3/reports/5/history\",\\n    \"rel\" : \"self\"\\n  } ]\\n}',\n",
                            " '{\\n  \"resources\" : [ ],\\n  \"links\" : [ {\\n    \"href\" : \"https://console.rapid7.aws.assaabloy.net/api/3/reports/6/history\",\\n    \"rel\" : \"self\"\\n  } ]\\n}',\n",
                            " '{\\n  \"resources\" : [ ],\\n  \"links\" : [ {\\n    \"href\" : \"https://console.rapid7.aws.assaabloy.net/api/3/reports/7/history\",\\n    \"rel\" : \"self\"\\n  } ]\\n}',\n",
                            " '{\\n  \"resources\" : [ ],\\n  \"links\" : [ {\\n    \"href\" : \"https://console.rapid7.aws.assaabloy.net/api/3/reports/8/history\",\\n    \"rel\" : \"self\"\\n  } ]\\n}',\n",
                            " '{\\n  \"resources\" : [ ],\\n  \"links\" : [ {\\n    \"href\" : \"https://console.rapid7.aws.assaabloy.net/api/3/reports/9/history\",\\n    \"rel\" : \"self\"\\n  } ]\\n}',\n",
                            " '{\\n  \"resources\" : [ ],\\n  \"links\" : [ {\\n    \"href\" : \"https://console.rapid7.aws.assaabloy.net/api/3/reports/10/history\",\\n    \"rel\" : \"self\"\\n  } ]\\n}',\n",
                            " '{\\n  \"resources\" : [ ],\\n  \"links\" : [ {\\n    \"href\" : \"https://console.rapid7.aws.assaabloy.net/api/3/reports/11/history\",\\n    \"rel\" : \"self\"\\n  } ]\\n}',\n",
                            " '{\\n  \"resources\" : [ ],\\n  \"links\" : [ {\\n    \"href\" : \"https://console.rapid7.aws.assaabloy.net/api/3/reports/12/history\",\\n    \"rel\" : \"self\"\\n  } ]\\n}',\n",
                            " '{\\n  \"resources\" : [ ],\\n  \"links\" : [ {\\n    \"href\" : \"https://console.rapid7.aws.assaabloy.net/api/3/reports/13/history\",\\n    \"rel\" : \"self\"\\n  } ]\\n}',\n",
                            " '{\\n  \"resources\" : [ ],\\n  \"links\" : [ {\\n    \"href\" : \"https://console.rapid7.aws.assaabloy.net/api/3/reports/14/history\",\\n    \"rel\" : \"self\"\\n  } ]\\n}',\n",
                            " '{\\n  \"resources\" : [ ],\\n  \"links\" : [ {\\n    \"href\" : \"https://console.rapid7.aws.assaabloy.net/api/3/reports/15/history\",\\n    \"rel\" : \"self\"\\n  } ]\\n}',\n",
                            " '{\\n  \"resources\" : [ ],\\n  \"links\" : [ {\\n    \"href\" : \"https://console.rapid7.aws.assaabloy.net/api/3/reports/16/history\",\\n    \"rel\" : \"self\"\\n  } ]\\n}',\n",
                            " '{\\n  \"resources\" : [ ],\\n  \"links\" : [ {\\n    \"href\" : \"https://console.rapid7.aws.assaabloy.net/api/3/reports/17/history\",\\n    \"rel\" : \"self\"\\n  } ]\\n}',\n",
                            " '{\\n  \"resources\" : [ ],\\n  \"links\" : [ {\\n    \"href\" : \"https://console.rapid7.aws.assaabloy.net/api/3/reports/18/history\",\\n    \"rel\" : \"self\"\\n  } ]\\n}',\n",
                            " '{\\n  \"resources\" : [ ],\\n  \"links\" : [ {\\n    \"href\" : \"https://console.rapid7.aws.assaabloy.net/api/3/reports/19/history\",\\n    \"rel\" : \"self\"\\n  } ]\\n}',\n",
                            " '{\\n  \"format\" : \"pdf\",\\n  \"frequency\" : {\\n    \"type\" : \"none\"\\n  },\\n  \"id\" : 5,\\n  \"language\" : \"en-US\",\\n  \"links\" : [ {\\n    \"href\" : \"https://console.rapid7.aws.assaabloy.net/api/3/reports/5\",\\n    \"rel\" : \"self\"\\n  }, {\\n    \"id\" : 12,\\n    \"href\" : \"https://console.rapid7.aws.assaabloy.net/api/3/users/12\",\\n    \"rel\" : \"Owner\"\\n  }, {\\n    \"id\" : \"audit-report\",\\n    \"href\" : \"https://console.rapid7.aws.assaabloy.net/api/3/report_templates/audit-report\",\\n    \"rel\" : \"Template\"\\n  } ],\\n  \"name\" : \"test\",\\n  \"owner\" : 12,\\n  \"riskTrend\" : {\\n    \"allAssets\" : {\\n      \"total\" : true,\\n      \"trend\" : \"average-risk\"\\n    },\\n    \"assets\" : false,\\n    \"from\" : \"P1Y\"\\n  },\\n  \"scope\" : {\\n    \"assetGroups\" : [ 103 ],\\n    \"assetsInOnlyMostRecentScanOfSite\" : false\\n  },\\n  \"template\" : \"audit-report\",\\n  \"timezone\" : \"GMT\"\\n}',\n",
                            " '{\\n  \"format\" : \"pdf\",\\n  \"frequency\" : {\\n    \"type\" : \"none\"\\n  },\\n  \"id\" : 6,\\n  \"language\" : \"en-US\",\\n  \"links\" : [ {\\n    \"href\" : \"https://console.rapid7.aws.assaabloy.net/api/3/reports/6\",\\n    \"rel\" : \"self\"\\n  }, {\\n    \"id\" : 99,\\n    \"href\" : \"https://console.rapid7.aws.assaabloy.net/api/3/users/99\",\\n    \"rel\" : \"Owner\"\\n  }, {\\n    \"id\" : \"highest-risk-vulns\",\\n    \"href\" : \"https://console.rapid7.aws.assaabloy.net/api/3/report_templates/highest-risk-vulns\",\\n    \"rel\" : \"Template\"\\n  } ],\\n  \"name\" : \"Top 10 AMER\",\\n  \"owner\" : 99,\\n  \"scope\" : {\\n    \"assetsInOnlyMostRecentScanOfSite\" : false\\n  },\\n  \"template\" : \"highest-risk-vulns\",\\n  \"timezone\" : \"GMT\"\\n}',\n",
                            " '{\\n  \"filters\" : {\\n    \"severity\" : \"all\",\\n    \"statuses\" : [ \"potentially-vulnerable\", \"vulnerable-version\", \"vulnerable\" ]\\n  },\\n  \"format\" : \"csv-export\",\\n  \"frequency\" : {\\n    \"type\" : \"none\"\\n  },\\n  \"id\" : 7,\\n  \"language\" : \"en-US\",\\n  \"links\" : [ {\\n    \"href\" : \"https://console.rapid7.aws.assaabloy.net/api/3/reports/7\",\\n    \"rel\" : \"self\"\\n  }, {\\n    \"id\" : 99,\\n    \"href\" : \"https://console.rapid7.aws.assaabloy.net/api/3/users/99\",\\n    \"rel\" : \"Owner\"\\n  }, {\\n    \"id\" : \"basic-vulnerability-check-results\",\\n    \"href\" : \"https://console.rapid7.aws.assaabloy.net/api/3/report_templates/basic-vulnerability-check-results\",\\n    \"rel\" : \"Template\"\\n  } ],\\n  \"name\" : \"Basic Vulnerability Check AMER\",\\n  \"owner\" : 99,\\n  \"scope\" : {\\n    \"assetsInOnlyMostRecentScanOfSite\" : false,\\n    \"sites\" : [ 137 ]\\n  },\\n  \"template\" : \"basic-vulnerability-check-results\",\\n  \"timezone\" : \"GMT\"\\n}',\n",
                            " '{\\n  \"format\" : \"pdf\",\\n  \"frequency\" : {\\n    \"type\" : \"none\"\\n  },\\n  \"id\" : 8,\\n  \"language\" : \"en-US\",\\n  \"links\" : [ {\\n    \"href\" : \"https://console.rapid7.aws.assaabloy.net/api/3/reports/8\",\\n    \"rel\" : \"self\"\\n  }, {\\n    \"id\" : 72,\\n    \"href\" : \"https://console.rapid7.aws.assaabloy.net/api/3/users/72\",\\n    \"rel\" : \"Owner\"\\n  }, {\\n    \"id\" : \"prioritized-remediations-with-details\",\\n    \"href\" : \"https://console.rapid7.aws.assaabloy.net/api/3/report_templates/prioritized-remediations-with-details\",\\n    \"rel\" : \"Template\"\\n  } ],\\n  \"name\" : \"EMEA\",\\n  \"owner\" : 72,\\n  \"remediation\" : {\\n    \"solutions\" : 25,\\n    \"sort\" : \"riskscore\"\\n  },\\n  \"scope\" : {\\n    \"assetsInOnlyMostRecentScanOfSite\" : false\\n  },\\n  \"template\" : \"prioritized-remediations-with-details\",\\n  \"timezone\" : \"GMT\"\\n}',\n",
                            " '{\\n  \"format\" : \"pdf\",\\n  \"frequency\" : {\\n    \"type\" : \"none\"\\n  },\\n  \"id\" : 9,\\n  \"language\" : \"en-US\",\\n  \"links\" : [ {\\n    \"href\" : \"https://console.rapid7.aws.assaabloy.net/api/3/reports/9\",\\n    \"rel\" : \"self\"\\n  }, {\\n    \"id\" : 12,\\n    \"href\" : \"https://console.rapid7.aws.assaabloy.net/api/3/users/12\",\\n    \"rel\" : \"Owner\"\\n  }, {\\n    \"id\" : \"prioritized-remediations-with-details\",\\n    \"href\" : \"https://console.rapid7.aws.assaabloy.net/api/3/report_templates/prioritized-remediations-with-details\",\\n    \"rel\" : \"Template\"\\n  } ],\\n  \"name\" : \"AMER-Remediations\",\\n  \"owner\" : 12,\\n  \"remediation\" : {\\n    \"solutions\" : 25,\\n    \"sort\" : \"riskscore\"\\n  },\\n  \"scope\" : {\\n    \"assetGroups\" : [ 747 ],\\n    \"assetsInOnlyMostRecentScanOfSite\" : false\\n  },\\n  \"template\" : \"prioritized-remediations-with-details\",\\n  \"timezone\" : \"GMT\"\\n}',\n",
                            " '{\\n  \"format\" : \"pdf\",\\n  \"frequency\" : {\\n    \"type\" : \"none\"\\n  },\\n  \"id\" : 12,\\n  \"language\" : \"en-US\",\\n  \"links\" : [ {\\n    \"href\" : \"https://console.rapid7.aws.assaabloy.net/api/3/reports/12\",\\n    \"rel\" : \"self\"\\n  }, {\\n    \"id\" : 12,\\n    \"href\" : \"https://console.rapid7.aws.assaabloy.net/api/3/users/12\",\\n    \"rel\" : \"Owner\"\\n  }, {\\n    \"id\" : \"audit-report\",\\n    \"href\" : \"https://console.rapid7.aws.assaabloy.net/api/3/report_templates/audit-report\",\\n    \"rel\" : \"Template\"\\n  } ],\\n  \"name\" : \"Asset report for 10.212.10.6\",\\n  \"owner\" : 12,\\n  \"riskTrend\" : {\\n    \"allAssets\" : {\\n      \"total\" : true,\\n      \"trend\" : \"average-risk\"\\n    },\\n    \"assets\" : false,\\n    \"from\" : \"P1Y\"\\n  },\\n  \"scope\" : {\\n    \"assetsInOnlyMostRecentScanOfSite\" : false\\n  },\\n  \"template\" : \"audit-report\",\\n  \"timezone\" : \"GMT\"\\n}',\n",
                            " '{\\n  \"filters\" : {\\n    \"severity\" : \"critical-and-severe\"\\n  },\\n  \"format\" : \"pdf\",\\n  \"frequency\" : {\\n    \"type\" : \"none\"\\n  },\\n  \"id\" : 14,\\n  \"language\" : \"en-US\",\\n  \"links\" : [ {\\n    \"href\" : \"https://console.rapid7.aws.assaabloy.net/api/3/reports/14\",\\n    \"rel\" : \"self\"\\n  }, {\\n    \"id\" : 112,\\n    \"href\" : \"https://console.rapid7.aws.assaabloy.net/api/3/users/112\",\\n    \"rel\" : \"Owner\"\\n  }, {\\n    \"id\" : \"vulnerability-trends\",\\n    \"href\" : \"https://console.rapid7.aws.assaabloy.net/api/3/report_templates/vulnerability-trends\",\\n    \"rel\" : \"Template\"\\n  } ],\\n  \"name\" : \"Test_Report\",\\n  \"owner\" : 112,\\n  \"range\" : {\\n    \"from\" : \"P3M\"\\n  },\\n  \"scope\" : {\\n    \"assetGroups\" : [ 747 ],\\n    \"assetsInOnlyMostRecentScanOfSite\" : false\\n  },\\n  \"template\" : \"vulnerability-trends\",\\n  \"timezone\" : \"GMT\"\\n}']"
                        ]
                    },
                    "metadata": {},
                    "execution_count": 135
                }
            ],
            "metadata": {}
        },
        {
            "cell_type": "code",
            "execution_count": 136,
            "source": [
                "r = requests.get('https://console.rapid7.aws.assaabloy.net/api/3/reports', auth=auth)"
            ],
            "outputs": [],
            "metadata": {}
        },
        {
            "cell_type": "code",
            "execution_count": 139,
            "source": [
                "import json"
            ],
            "outputs": [],
            "metadata": {}
        },
        {
            "cell_type": "code",
            "execution_count": null,
            "source": [],
            "outputs": [],
            "metadata": {}
        }
    ],
    "metadata": {
        "orig_nbformat": 4,
        "language_info": {
            "name": "python",
            "version": "3.9.6",
            "mimetype": "text/x-python",
            "codemirror_mode": {
                "name": "ipython",
                "version": 3
            },
            "pygments_lexer": "ipython3",
            "nbconvert_exporter": "python",
            "file_extension": ".py"
        },
        "kernelspec": {
            "name": "python3",
            "display_name": "Python 3.9.6 64-bit"
        },
        "interpreter": {
            "hash": "88b2f5fd03dddd300991b6ba396a3a305aeb6733f2930013bdfe630fc45f0129"
        }
    },
    "nbformat": 4,
    "nbformat_minor": 2
}