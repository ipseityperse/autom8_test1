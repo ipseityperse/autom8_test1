{
    "cells": [
        {
            "cell_type": "code",
            "execution_count": 6,
            "source": [
                "from pdf2image import convert_from_path, convert_from_bytes\r\n",
                "from pdf2image.exceptions import (\r\n",
                "    PDFInfoNotInstalledError,\r\n",
                "    PDFPageCountError,\r\n",
                "    PDFSyntaxError\r\n",
                ")"
            ],
            "outputs": [],
            "metadata": {}
        },
        {
            "cell_type": "code",
            "execution_count": null,
            "source": [
                "import tempfile\r\n",
                "\r\n",
                "with tempfile.TemporaryDirectory() as path:\r\n",
                "    images_from_path = convert_from_path('./ex/AAAB/AAGC/AAGC - TOP25 Remediation with Details.pdf', output_folder=path)\r\n",
                "    "
            ],
            "outputs": [],
            "metadata": {}
        }
    ],
    "metadata": {
        "orig_nbformat": 4,
        "language_info": {
            "name": "python",
            "version": "3.9.6",
            "mimetype": "text/x-python",
            "codemirror_mode": {
                "name": "ipython",
                "version": 3
            },
            "pygments_lexer": "ipython3",
            "nbconvert_exporter": "python",
            "file_extension": ".py"
        },
        "kernelspec": {
            "name": "python3",
            "display_name": "Python 3.9.6 64-bit ('venv': venv)"
        },
        "interpreter": {
            "hash": "5105a525f9604314770de9921a32df678faa2cc4aca51228c42662416f33a9c8"
        }
    },
    "nbformat": 4,
    "nbformat_minor": 2
}